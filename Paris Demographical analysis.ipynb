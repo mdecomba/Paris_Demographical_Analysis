{
 "cells": [
  {
   "cell_type": "code",
   "execution_count": 23,
   "metadata": {},
   "outputs": [],
   "source": [
    "import pandas as pd"
   ]
  },
  {
   "cell_type": "markdown",
   "metadata": {},
   "source": [
    "## Pre processing population dataset"
   ]
  },
  {
   "cell_type": "code",
   "execution_count": 24,
   "metadata": {},
   "outputs": [],
   "source": [
    "pop = pd.read_csv('Datasets/raw/Population_raw.csv', sep=';')\n",
    "pop_melt = pop.melt(id_vars='Arrondissement')\n",
    "pop_melt.columns = ['Arrondissement', 'Année', 'Population']\n",
    "pop_melt.to_csv('Datasets/processed/Population_Processed.csv', sep=';', index=False)"
   ]
  },
  {
   "cell_type": "markdown",
   "metadata": {},
   "source": [
    "## Pre processing price dataset"
   ]
  },
  {
   "cell_type": "code",
   "execution_count": 25,
   "metadata": {},
   "outputs": [],
   "source": [
    "data = pd.read_csv('Datasets/raw/Prices_raw.csv')\n",
    "data.drop(columns=\"Unnamed: 0\", inplace = True)\n",
    "data.drop([46,47,48,49,85], inplace = True)\n",
    "\n",
    "arrondissement = []\n",
    "for i in range(0,20):\n",
    "    arrondissementNum = '{:02}'.format(i+1)\n",
    "    arrondissement.append((int('750' + str(arrondissementNum))))\n",
    "\n",
    "data.columns = arrondissement+['Quarter','Year']\n",
    "\n",
    "df1 = data.melt(id_vars=['Quarter', 'Year'])\n",
    "\n",
    "df1.Quarter.replace(\n",
    "                    to_replace=['T1', 'T2', 'T3', 'T4'],\n",
    "                    value = ['Q1', 'Q2', 'Q3', 'Q4'],\n",
    "                    inplace = True)\n",
    "\n",
    "df1['Pays'] = 'France'\n",
    "\n",
    "df1.columns = ['Quarter', 'Année', 'Arrondissement', 'Prix', 'Pays']\n",
    "\n",
    "df1.to_csv('Datasets/processed/Prices_Processed.csv', index=False, sep=';')"
   ]
  },
  {
   "cell_type": "markdown",
   "metadata": {},
   "source": [
    "## Creating Density dataset"
   ]
  },
  {
   "cell_type": "code",
   "execution_count": 26,
   "metadata": {},
   "outputs": [],
   "source": [
    "population = pd.read_csv('Datasets/processed/Population_Processed.csv', sep = ';')\n",
    "area = pd.read_csv('Datasets/processed/Area.csv', sep=';')"
   ]
  },
  {
   "cell_type": "code",
   "execution_count": 27,
   "metadata": {},
   "outputs": [],
   "source": [
    "area['Superficie'] = area['Superficie'].apply(lambda x: x.replace(',','.'))\n",
    "area['Superficie'] = pd.to_numeric(area['Superficie'])"
   ]
  },
  {
   "cell_type": "code",
   "execution_count": 28,
   "metadata": {},
   "outputs": [],
   "source": [
    "Density = pd.merge(population, area, left_on=['Arrondissement'], right_on=['Arrondissement'], how='left')"
   ]
  },
  {
   "cell_type": "code",
   "execution_count": 29,
   "metadata": {},
   "outputs": [],
   "source": [
    "row_to_drop = Density[(Density['Année'] == 2009) | (Density['Année'] == 2011)].index\n",
    "Density['Density'] = Density['Population']/Density['Superficie']\n",
    "Density['Country'] = 'France'\n",
    "Density_evo = Density.drop(row_to_drop)\n",
    "Density_evo.to_csv('Datasets/processed/Density_Processed.csv')"
   ]
  },
  {
   "cell_type": "markdown",
   "metadata": {},
   "source": [
    "## Creating a Dataset that corrolate price and density"
   ]
  },
  {
   "cell_type": "code",
   "execution_count": 30,
   "metadata": {
    "scrolled": true
   },
   "outputs": [
    {
     "name": "stderr",
     "output_type": "stream",
     "text": [
      "C:\\Users\\Martin\\anaconda\\lib\\site-packages\\ipykernel_launcher.py:22: SettingWithCopyWarning: \n",
      "A value is trying to be set on a copy of a slice from a DataFrame.\n",
      "Try using .loc[row_indexer,col_indexer] = value instead\n",
      "\n",
      "See the caveats in the documentation: http://pandas.pydata.org/pandas-docs/stable/indexing.html#indexing-view-versus-copy\n"
     ]
    },
    {
     "data": {
      "text/html": [
       "<div>\n",
       "<style scoped>\n",
       "    .dataframe tbody tr th:only-of-type {\n",
       "        vertical-align: middle;\n",
       "    }\n",
       "\n",
       "    .dataframe tbody tr th {\n",
       "        vertical-align: top;\n",
       "    }\n",
       "\n",
       "    .dataframe thead th {\n",
       "        text-align: right;\n",
       "    }\n",
       "</style>\n",
       "<table border=\"1\" class=\"dataframe\">\n",
       "  <thead>\n",
       "    <tr style=\"text-align: right;\">\n",
       "      <th></th>\n",
       "      <th>Arrondissement</th>\n",
       "      <th>is_corr</th>\n",
       "      <th>Country</th>\n",
       "    </tr>\n",
       "  </thead>\n",
       "  <tbody>\n",
       "    <tr>\n",
       "      <th>0</th>\n",
       "      <td>75001</td>\n",
       "      <td>True</td>\n",
       "      <td>France</td>\n",
       "    </tr>\n",
       "    <tr>\n",
       "      <th>0</th>\n",
       "      <td>75002</td>\n",
       "      <td>False</td>\n",
       "      <td>France</td>\n",
       "    </tr>\n",
       "    <tr>\n",
       "      <th>0</th>\n",
       "      <td>75003</td>\n",
       "      <td>False</td>\n",
       "      <td>France</td>\n",
       "    </tr>\n",
       "    <tr>\n",
       "      <th>0</th>\n",
       "      <td>75004</td>\n",
       "      <td>True</td>\n",
       "      <td>France</td>\n",
       "    </tr>\n",
       "    <tr>\n",
       "      <th>0</th>\n",
       "      <td>75005</td>\n",
       "      <td>True</td>\n",
       "      <td>France</td>\n",
       "    </tr>\n",
       "  </tbody>\n",
       "</table>\n",
       "</div>"
      ],
      "text/plain": [
       "   Arrondissement  is_corr Country\n",
       "0           75001     True  France\n",
       "0           75002    False  France\n",
       "0           75003    False  France\n",
       "0           75004     True  France\n",
       "0           75005     True  France"
      ]
     },
     "execution_count": 30,
     "metadata": {},
     "output_type": "execute_result"
    }
   ],
   "source": [
    "#Loading datas\n",
    "prix = pd.read_csv('Datasets/processed/Prices_Processed.csv', sep=';')\n",
    "\n",
    "#Merging DataFrame\n",
    "density_population = pd.merge(prix, Density, left_on=['Arrondissement', 'Année'], right_on=['Arrondissement', 'Année'], how='left')\n",
    "density_population = density_population[(density_population['Density'].notnull()) & (density_population['Quarter'] == 'Q1')]\n",
    "\n",
    "density_population['Prix'] = density_population['Prix'].str.replace(' ', '')\n",
    "density_population['Prix'] = pd.to_numeric(density_population['Prix'])\n",
    "\n",
    "prix_density_corr = pd.DataFrame()\n",
    "\n",
    "# Creating an array of the district numbers\n",
    "arrondissementNumber = []\n",
    "for i in range(0,20):\n",
    "    arrondissementNum = '{:02}'.format(i+1)\n",
    "    arrondissementNumber.append((int('750' + str(arrondissementNum))))\n",
    "\n",
    "#Comparing the max density and max price year\n",
    "for arrondissementNum in arrondissementNumber:\n",
    "    byDistrict = density_population[density_population['Arrondissement'] == arrondissementNum]\n",
    "    byDistrict['Density'] = byDistrict['Density'].astype(int)\n",
    "    \n",
    "    min_price = byDistrict[byDistrict['Prix'] == byDistrict['Prix'].min()] \n",
    "    max_density = byDistrict[byDistrict['Density'] == byDistrict['Density'].max()]\n",
    "    \n",
    "    if(min_price.equals(max_density)):\n",
    "        new_row = {'Arrondissement'  : [arrondissementNum] , 'is_corr' : [True]}\n",
    "        prix_density_corr = pd.concat([prix_density_corr, pd.DataFrame(new_row)])\n",
    "    else:\n",
    "        new_row = {'Arrondissement'  : [arrondissementNum] , 'is_corr' : [False]}\n",
    "        prix_density_corr = pd.concat([prix_density_corr, pd.DataFrame(new_row)])\n",
    "        \n",
    "\n",
    "prix_density_corr['Country'] = 'France'\n",
    "prix_density_corr.to_csv('Datasets/processed/Correlation.csv')\n",
    "prix_density_corr.head(5)\n"
   ]
  },
  {
   "cell_type": "markdown",
   "metadata": {},
   "source": [
    "## Creating one dataset for \"big four\" district and one for others"
   ]
  },
  {
   "cell_type": "code",
   "execution_count": 31,
   "metadata": {
    "scrolled": true
   },
   "outputs": [],
   "source": [
    "corr = prix_density_corr[prix_density_corr['is_corr'] == True]['Arrondissement'].values\n",
    "\n",
    "#Constructing ywo arrays : one with the zipcode of the big four and one with the others\n",
    "corr = prix_density_corr[prix_density_corr['is_corr'] == True]['Arrondissement'].values\n",
    "not_big_four_num = []\n",
    "for arrondissementNum in arrondissementNumber:\n",
    "    if arrondissementNum not in corr:\n",
    "        not_big_four_num.append(arrondissementNum)    \n",
    "\n",
    "#Constructiong our two dataframes\n",
    "big_four = pd.DataFrame()\n",
    "not_big_four = pd.DataFrame()\n",
    "\n",
    "for district in corr:\n",
    "    district = density_population[density_population['Arrondissement'] == district]\n",
    "    density_2006 = district[district['Année'] == 2006]\n",
    "    density_2017 = district[district['Année'] == 2017]\n",
    "    big_four = pd.concat([big_four, density_2006])\n",
    "    big_four = pd.concat([big_four, density_2017])\n",
    "    \n",
    "\n",
    "for district in not_big_four_num:\n",
    "    district = density_population[density_population['Arrondissement'] == district]\n",
    "    density_2006 = district[district['Année'] == 2006]\n",
    "    density_2017 = district[district['Année'] == 2017]\n",
    "    not_big_four = pd.concat([not_big_four, density_2006])\n",
    "    not_big_four = pd.concat([not_big_four, density_2017])\n",
    "    "
   ]
  },
  {
   "cell_type": "markdown",
   "metadata": {},
   "source": [
    "## Creating evolution features"
   ]
  },
  {
   "cell_type": "code",
   "execution_count": 32,
   "metadata": {
    "scrolled": true
   },
   "outputs": [],
   "source": [
    "#big four evolution\n",
    "big_four_density_2006 = big_four[big_four['Année'] == 2006]['Density'].mean()\n",
    "big_four_density_2017 = big_four[big_four['Année'] == 2017]['Density'].mean()\n",
    "not_big_four_density_2006 = not_big_four[not_big_four['Année'] == 2006]['Density'].mean()\n",
    "not_big_four_density_2017 = not_big_four[not_big_four['Année'] == 2017]['Density'].mean()\n",
    "\n",
    "big_four_density_evo = (big_four_density_2006 - big_four_density_2017)/big_four_density_2006 *100\n",
    "not_big_four_density_evo = (not_big_four_density_2006 - not_big_four_density_2017)/not_big_four_density_2006*100\n",
    "\n",
    "#not_big_four_evolution\n",
    "big_four_price_2006 = big_four[big_four['Année'] == 2006]['Prix'].mean()\n",
    "big_four_price_2017 = big_four[big_four['Année'] == 2017]['Prix'].mean()\n",
    "not_big_four_price_2006 = not_big_four[not_big_four['Année'] == 2006]['Prix'].mean()\n",
    "not_big_four_price_2017 = not_big_four[not_big_four['Année'] == 2017]['Prix'].mean()\n",
    "\n",
    "big_four_price_evo = (big_four_price_2017 - big_four_price_2006)/big_four_price_2006*100\n",
    "not_big_four_price_evo = (not_big_four_price_2017 - not_big_four_price_2006)/not_big_four_price_2006*100"
   ]
  },
  {
   "cell_type": "code",
   "execution_count": 33,
   "metadata": {},
   "outputs": [
    {
     "data": {
      "text/html": [
       "<div>\n",
       "<style scoped>\n",
       "    .dataframe tbody tr th:only-of-type {\n",
       "        vertical-align: middle;\n",
       "    }\n",
       "\n",
       "    .dataframe tbody tr th {\n",
       "        vertical-align: top;\n",
       "    }\n",
       "\n",
       "    .dataframe thead th {\n",
       "        text-align: right;\n",
       "    }\n",
       "</style>\n",
       "<table border=\"1\" class=\"dataframe\">\n",
       "  <thead>\n",
       "    <tr style=\"text-align: right;\">\n",
       "      <th></th>\n",
       "      <th>Price Growth</th>\n",
       "      <th>Density Loss</th>\n",
       "    </tr>\n",
       "    <tr>\n",
       "      <th>District</th>\n",
       "      <th></th>\n",
       "      <th></th>\n",
       "    </tr>\n",
       "  </thead>\n",
       "  <tbody>\n",
       "    <tr>\n",
       "      <th>Big Four</th>\n",
       "      <td>60.230850</td>\n",
       "      <td>4.755351</td>\n",
       "    </tr>\n",
       "    <tr>\n",
       "      <th>Not Big Four</th>\n",
       "      <td>57.725714</td>\n",
       "      <td>-0.629248</td>\n",
       "    </tr>\n",
       "  </tbody>\n",
       "</table>\n",
       "</div>"
      ],
      "text/plain": [
       "              Price Growth  Density Loss\n",
       "District                                \n",
       "Big Four         60.230850      4.755351\n",
       "Not Big Four     57.725714     -0.629248"
      ]
     },
     "execution_count": 33,
     "metadata": {},
     "output_type": "execute_result"
    }
   ],
   "source": [
    "viz = pd.DataFrame({'District' : ['Big Four', 'Not Big Four'], \n",
    "                    'Price Growth' : [big_four_price_evo, not_big_four_price_evo], \n",
    "                    'Density Loss' : [big_four_density_evo, not_big_four_density_evo]})\n",
    "\n",
    "viz.set_index('District')"
   ]
  },
  {
   "cell_type": "code",
   "execution_count": 34,
   "metadata": {},
   "outputs": [
    {
     "data": {
      "text/plain": [
       "11452.5"
      ]
     },
     "execution_count": 34,
     "metadata": {},
     "output_type": "execute_result"
    }
   ],
   "source": [
    "big_four[big_four['Année'] == 2017]['Prix'].mean()"
   ]
  }
 ],
 "metadata": {
  "kernelspec": {
   "display_name": "Python 3",
   "language": "python",
   "name": "python3"
  },
  "language_info": {
   "codemirror_mode": {
    "name": "ipython",
    "version": 3
   },
   "file_extension": ".py",
   "mimetype": "text/x-python",
   "name": "python",
   "nbconvert_exporter": "python",
   "pygments_lexer": "ipython3",
   "version": "3.7.3"
  }
 },
 "nbformat": 4,
 "nbformat_minor": 2
}
